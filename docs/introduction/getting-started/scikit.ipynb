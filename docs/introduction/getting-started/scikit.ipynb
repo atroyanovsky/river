{
 "cells": [
  {
   "cell_type": "markdown",
   "metadata": {},
   "source": [
    "## Multi-output a' la scikit-learn\n",
    "From: https://calmcode.io/course/scikit-meta/multi-output"
   ]
  },
  {
   "cell_type": "code",
   "execution_count": 9,
   "metadata": {},
   "outputs": [
    {
     "data": {
      "text/html": [
       "<div>\n",
       "<style scoped>\n",
       "    .dataframe tbody tr th:only-of-type {\n",
       "        vertical-align: middle;\n",
       "    }\n",
       "\n",
       "    .dataframe tbody tr th {\n",
       "        vertical-align: top;\n",
       "    }\n",
       "\n",
       "    .dataframe thead th {\n",
       "        text-align: right;\n",
       "    }\n",
       "</style>\n",
       "<table border=\"1\" class=\"dataframe\">\n",
       "  <thead>\n",
       "    <tr style=\"text-align: right;\">\n",
       "      <th></th>\n",
       "      <th>survived</th>\n",
       "      <th>pclass</th>\n",
       "      <th>name</th>\n",
       "      <th>sex</th>\n",
       "      <th>age</th>\n",
       "      <th>fare</th>\n",
       "      <th>sibsp</th>\n",
       "      <th>parch</th>\n",
       "    </tr>\n",
       "  </thead>\n",
       "  <tbody>\n",
       "    <tr>\n",
       "      <th>0</th>\n",
       "      <td>0</td>\n",
       "      <td>3</td>\n",
       "      <td>Braund, Mr. Owen Harris</td>\n",
       "      <td>male</td>\n",
       "      <td>22.0</td>\n",
       "      <td>7.2500</td>\n",
       "      <td>1</td>\n",
       "      <td>0</td>\n",
       "    </tr>\n",
       "    <tr>\n",
       "      <th>1</th>\n",
       "      <td>1</td>\n",
       "      <td>1</td>\n",
       "      <td>Cumings, Mrs. John Bradley (Florence Briggs Th...</td>\n",
       "      <td>female</td>\n",
       "      <td>38.0</td>\n",
       "      <td>71.2833</td>\n",
       "      <td>1</td>\n",
       "      <td>0</td>\n",
       "    </tr>\n",
       "    <tr>\n",
       "      <th>2</th>\n",
       "      <td>1</td>\n",
       "      <td>3</td>\n",
       "      <td>Heikkinen, Miss. Laina</td>\n",
       "      <td>female</td>\n",
       "      <td>26.0</td>\n",
       "      <td>7.9250</td>\n",
       "      <td>0</td>\n",
       "      <td>0</td>\n",
       "    </tr>\n",
       "    <tr>\n",
       "      <th>3</th>\n",
       "      <td>1</td>\n",
       "      <td>1</td>\n",
       "      <td>Futrelle, Mrs. Jacques Heath (Lily May Peel)</td>\n",
       "      <td>female</td>\n",
       "      <td>35.0</td>\n",
       "      <td>53.1000</td>\n",
       "      <td>1</td>\n",
       "      <td>0</td>\n",
       "    </tr>\n",
       "    <tr>\n",
       "      <th>4</th>\n",
       "      <td>0</td>\n",
       "      <td>3</td>\n",
       "      <td>Allen, Mr. William Henry</td>\n",
       "      <td>male</td>\n",
       "      <td>35.0</td>\n",
       "      <td>8.0500</td>\n",
       "      <td>0</td>\n",
       "      <td>0</td>\n",
       "    </tr>\n",
       "  </tbody>\n",
       "</table>\n",
       "</div>"
      ],
      "text/plain": [
       "   survived  pclass                                               name  \\\n",
       "0         0       3                            Braund, Mr. Owen Harris   \n",
       "1         1       1  Cumings, Mrs. John Bradley (Florence Briggs Th...   \n",
       "2         1       3                             Heikkinen, Miss. Laina   \n",
       "3         1       1       Futrelle, Mrs. Jacques Heath (Lily May Peel)   \n",
       "4         0       3                           Allen, Mr. William Henry   \n",
       "\n",
       "      sex   age     fare  sibsp  parch  \n",
       "0    male  22.0   7.2500      1      0  \n",
       "1  female  38.0  71.2833      1      0  \n",
       "2  female  26.0   7.9250      0      0  \n",
       "3  female  35.0  53.1000      1      0  \n",
       "4    male  35.0   8.0500      0      0  "
      ]
     },
     "execution_count": 9,
     "metadata": {},
     "output_type": "execute_result"
    }
   ],
   "source": [
    "import numpy as np\n",
    "import pandas as pd\n",
    "from sklearn.neighbors import KNeighborsClassifier\n",
    "from sklearn.linear_model import LogisticRegression\n",
    "from sklearn.multioutput import MultiOutputClassifier, MultiOutputRegressor\n",
    "\n",
    "\n",
    "df = pd.read_csv(\"https://calmcode.io/static/data/titanic.csv\")\n",
    "df.head()\n"
   ]
  },
  {
   "cell_type": "code",
   "execution_count": 2,
   "metadata": {},
   "outputs": [
    {
     "data": {
      "text/html": [
       "<div>\n",
       "<style scoped>\n",
       "    .dataframe tbody tr th:only-of-type {\n",
       "        vertical-align: middle;\n",
       "    }\n",
       "\n",
       "    .dataframe tbody tr th {\n",
       "        vertical-align: top;\n",
       "    }\n",
       "\n",
       "    .dataframe thead th {\n",
       "        text-align: right;\n",
       "    }\n",
       "</style>\n",
       "<table border=\"1\" class=\"dataframe\">\n",
       "  <thead>\n",
       "    <tr style=\"text-align: right;\">\n",
       "      <th></th>\n",
       "      <th>sex</th>\n",
       "      <th>age</th>\n",
       "      <th>fare</th>\n",
       "    </tr>\n",
       "  </thead>\n",
       "  <tbody>\n",
       "    <tr>\n",
       "      <th>0</th>\n",
       "      <td>True</td>\n",
       "      <td>22.0</td>\n",
       "      <td>7.2500</td>\n",
       "    </tr>\n",
       "    <tr>\n",
       "      <th>1</th>\n",
       "      <td>False</td>\n",
       "      <td>38.0</td>\n",
       "      <td>71.2833</td>\n",
       "    </tr>\n",
       "    <tr>\n",
       "      <th>2</th>\n",
       "      <td>False</td>\n",
       "      <td>26.0</td>\n",
       "      <td>7.9250</td>\n",
       "    </tr>\n",
       "    <tr>\n",
       "      <th>3</th>\n",
       "      <td>False</td>\n",
       "      <td>35.0</td>\n",
       "      <td>53.1000</td>\n",
       "    </tr>\n",
       "    <tr>\n",
       "      <th>4</th>\n",
       "      <td>True</td>\n",
       "      <td>35.0</td>\n",
       "      <td>8.0500</td>\n",
       "    </tr>\n",
       "    <tr>\n",
       "      <th>...</th>\n",
       "      <td>...</td>\n",
       "      <td>...</td>\n",
       "      <td>...</td>\n",
       "    </tr>\n",
       "    <tr>\n",
       "      <th>709</th>\n",
       "      <td>False</td>\n",
       "      <td>39.0</td>\n",
       "      <td>29.1250</td>\n",
       "    </tr>\n",
       "    <tr>\n",
       "      <th>710</th>\n",
       "      <td>True</td>\n",
       "      <td>27.0</td>\n",
       "      <td>13.0000</td>\n",
       "    </tr>\n",
       "    <tr>\n",
       "      <th>711</th>\n",
       "      <td>False</td>\n",
       "      <td>19.0</td>\n",
       "      <td>30.0000</td>\n",
       "    </tr>\n",
       "    <tr>\n",
       "      <th>712</th>\n",
       "      <td>True</td>\n",
       "      <td>26.0</td>\n",
       "      <td>30.0000</td>\n",
       "    </tr>\n",
       "    <tr>\n",
       "      <th>713</th>\n",
       "      <td>True</td>\n",
       "      <td>32.0</td>\n",
       "      <td>7.7500</td>\n",
       "    </tr>\n",
       "  </tbody>\n",
       "</table>\n",
       "<p>714 rows × 3 columns</p>\n",
       "</div>"
      ],
      "text/plain": [
       "       sex   age     fare\n",
       "0     True  22.0   7.2500\n",
       "1    False  38.0  71.2833\n",
       "2    False  26.0   7.9250\n",
       "3    False  35.0  53.1000\n",
       "4     True  35.0   8.0500\n",
       "..     ...   ...      ...\n",
       "709  False  39.0  29.1250\n",
       "710   True  27.0  13.0000\n",
       "711  False  19.0  30.0000\n",
       "712   True  26.0  30.0000\n",
       "713   True  32.0   7.7500\n",
       "\n",
       "[714 rows x 3 columns]"
      ]
     },
     "execution_count": 2,
     "metadata": {},
     "output_type": "execute_result"
    }
   ],
   "source": [
    "labels = df[['survived', 'pclass']].values\n",
    "X = df.assign(sex=lambda d: d['sex'] == 'male')[['sex', 'age', 'fare']]\n",
    "X"
   ]
  },
  {
   "cell_type": "code",
   "execution_count": 3,
   "metadata": {},
   "outputs": [
    {
     "data": {
      "text/plain": [
       "(714, 2)"
      ]
     },
     "execution_count": 3,
     "metadata": {},
     "output_type": "execute_result"
    }
   ],
   "source": [
    "labels.shape"
   ]
  },
  {
   "cell_type": "code",
   "execution_count": 4,
   "metadata": {},
   "outputs": [
    {
     "data": {
      "text/plain": [
       "array([[0, 3],\n",
       "       [1, 1],\n",
       "       [1, 3],\n",
       "       ...,\n",
       "       [1, 2],\n",
       "       [0, 2],\n",
       "       [0, 3]])"
      ]
     },
     "execution_count": 4,
     "metadata": {},
     "output_type": "execute_result"
    }
   ],
   "source": [
    "# This will train a LogisticRegression for each model\n",
    "clf = MultiOutputClassifier(LogisticRegression()).fit(X, labels)\n",
    "clf.predict(X)"
   ]
  },
  {
   "cell_type": "code",
   "execution_count": 5,
   "metadata": {},
   "outputs": [
    {
     "data": {
      "text/plain": [
       "[array([0, 1]), array([1, 2, 3])]"
      ]
     },
     "execution_count": 5,
     "metadata": {},
     "output_type": "execute_result"
    }
   ],
   "source": [
    "# We notice that the first label has 2 classes while the second has three\n",
    "clf.classes_"
   ]
  },
  {
   "cell_type": "code",
   "execution_count": 6,
   "metadata": {},
   "outputs": [
    {
     "data": {
      "text/plain": [
       "(714, 2)"
      ]
     },
     "execution_count": 6,
     "metadata": {},
     "output_type": "execute_result"
    }
   ],
   "source": [
    "clf.predict(X).shape"
   ]
  },
  {
   "cell_type": "code",
   "execution_count": 7,
   "metadata": {},
   "outputs": [
    {
     "data": {
      "text/plain": [
       "array([[0, 3],\n",
       "       [1, 1],\n",
       "       [1, 3],\n",
       "       ...,\n",
       "       [1, 2],\n",
       "       [1, 1],\n",
       "       [0, 3]])"
      ]
     },
     "execution_count": 7,
     "metadata": {},
     "output_type": "execute_result"
    }
   ],
   "source": [
    "clf = MultiOutputClassifier(KNeighborsClassifier()).fit(X, labels)\n",
    "clf.predict(X)"
   ]
  },
  {
   "cell_type": "code",
   "execution_count": 8,
   "metadata": {},
   "outputs": [
    {
     "data": {
      "text/plain": [
       "[array([[0.8, 0.2],\n",
       "        [0.4, 0.6],\n",
       "        [0.4, 0.6],\n",
       "        ...,\n",
       "        [0. , 1. ],\n",
       "        [0.4, 0.6],\n",
       "        [0.8, 0.2]]),\n",
       " array([[0. , 0. , 1. ],\n",
       "        [0.8, 0.2, 0. ],\n",
       "        [0. , 0. , 1. ],\n",
       "        ...,\n",
       "        [0.4, 0.6, 0. ],\n",
       "        [0.6, 0.4, 0. ],\n",
       "        [0. , 0. , 1. ]])]"
      ]
     },
     "execution_count": 8,
     "metadata": {},
     "output_type": "execute_result"
    }
   ],
   "source": [
    "clf.predict_proba(X)\n"
   ]
  },
  {
   "cell_type": "code",
   "execution_count": 9,
   "metadata": {},
   "outputs": [
    {
     "data": {
      "text/plain": [
       "[(714, 2), (714, 3)]"
      ]
     },
     "execution_count": 9,
     "metadata": {},
     "output_type": "execute_result"
    }
   ],
   "source": [
    "[arr.shape for arr in clf.predict_proba(X)]"
   ]
  },
  {
   "cell_type": "code",
   "execution_count": 10,
   "metadata": {},
   "outputs": [
    {
     "data": {
      "text/plain": [
       "[KNeighborsClassifier(), KNeighborsClassifier()]"
      ]
     },
     "execution_count": 10,
     "metadata": {},
     "output_type": "execute_result"
    }
   ],
   "source": [
    "clf.estimators_\n"
   ]
  },
  {
   "cell_type": "markdown",
   "metadata": {},
   "source": [
    "## Multi-output a' la river"
   ]
  },
  {
   "cell_type": "markdown",
   "metadata": {},
   "source": [
    "### Create dataset for streaming applications"
   ]
  },
  {
   "cell_type": "code",
   "execution_count": 1,
   "metadata": {},
   "outputs": [],
   "source": [
    "from river import stream\n",
    "from sklearn import datasets\n",
    "\n",
    "dataset = stream.iter_sklearn_dataset(\n",
    "    dataset=datasets.fetch_openml('Titanic', version=1, parser='auto', as_frame=True),\n",
    "    shuffle=True,\n",
    "    seed=42\n",
    "    )\n"
   ]
  },
  {
   "cell_type": "code",
   "execution_count": 2,
   "metadata": {},
   "outputs": [
    {
     "data": {
      "text/plain": [
       "{'pclass': 1,\n",
       " 'name': 'Penasco y Castellana, Mr. Victor de Satode',\n",
       " 'sex': 'male',\n",
       " 'age': 18.0,\n",
       " 'sibsp': 1,\n",
       " 'parch': 0,\n",
       " 'ticket': 'PC 17758',\n",
       " 'fare': 108.9,\n",
       " 'cabin': 'C65',\n",
       " 'embarked': 'C',\n",
       " 'boat': nan,\n",
       " 'body': nan,\n",
       " 'home.dest': 'Madrid, Spain'}"
      ]
     },
     "execution_count": 2,
     "metadata": {},
     "output_type": "execute_result"
    }
   ],
   "source": [
    "x, y = next(iter(dataset))\n",
    "x"
   ]
  },
  {
   "cell_type": "code",
   "execution_count": 3,
   "metadata": {},
   "outputs": [
    {
     "data": {
      "text/plain": [
       "'0'"
      ]
     },
     "execution_count": 3,
     "metadata": {},
     "output_type": "execute_result"
    }
   ],
   "source": [
    "y"
   ]
  },
  {
   "cell_type": "code",
   "execution_count": 4,
   "metadata": {},
   "outputs": [],
   "source": [
    "# features and labels coherent with the scikit-learn based example\n",
    "feat_list = ['sex', 'age', 'fare']\n",
    "\n",
    "def transform_dict(x, y, feat):\n",
    "    \"\"\"From each item of the dataset generator, extract 2 dictionaries: \n",
    "    1 related to the features and the other one related to the labels\n",
    "    \"\"\"\n",
    "    new_x = {k: x[k] for k in feat}\n",
    "    new_y = {'survived': int(y), 'pclass': x['pclass']}\n",
    "    return new_x, new_y\n"
   ]
  },
  {
   "cell_type": "code",
   "execution_count": 5,
   "metadata": {},
   "outputs": [
    {
     "data": {
      "text/plain": [
       "({'sex': 'male', 'age': 33.0, 'fare': 5.0}, {'survived': 0, 'pclass': 1})"
      ]
     },
     "execution_count": 5,
     "metadata": {},
     "output_type": "execute_result"
    }
   ],
   "source": [
    "x, y = next(iter(dataset))\n",
    "new_x, new_y = transform_dict(x, y, feat_list)\n",
    "new_x, new_y"
   ]
  },
  {
   "cell_type": "code",
   "execution_count": 6,
   "metadata": {},
   "outputs": [],
   "source": [
    "import functools\n",
    "from river import neighbors, multioutput, linear_model\n",
    "from river.utils.math import minkowski_distance"
   ]
  },
  {
   "cell_type": "markdown",
   "metadata": {},
   "source": [
    "### Test instance creation"
   ]
  },
  {
   "cell_type": "code",
   "execution_count": 7,
   "metadata": {},
   "outputs": [],
   "source": [
    "knn_inst = \\\n",
    "    multioutput.PerOutputClassifier(\n",
    "        model= neighbors.KNNClassifier(\n",
    "            n_neighbors=1,\n",
    "            engine=neighbors.LazySearch(\n",
    "            window_size=10, dist_func=functools.partial(minkowski_distance, p=2)\n",
    "            ),)\n",
    "        )\n"
   ]
  },
  {
   "cell_type": "markdown",
   "metadata": {},
   "source": [
    "### Test multi-class property"
   ]
  },
  {
   "cell_type": "code",
   "execution_count": 8,
   "metadata": {},
   "outputs": [
    {
     "data": {
      "text/plain": [
       "True"
      ]
     },
     "execution_count": 8,
     "metadata": {},
     "output_type": "execute_result"
    }
   ],
   "source": [
    "# check if the model is multi-class\n",
    "knn_inst._multiclass"
   ]
  },
  {
   "cell_type": "code",
   "execution_count": 9,
   "metadata": {},
   "outputs": [
    {
     "data": {
      "text/plain": [
       "{}"
      ]
     },
     "execution_count": 9,
     "metadata": {},
     "output_type": "execute_result"
    }
   ],
   "source": [
    "# check predicted proba before seeing any data\n",
    "knn_inst.predict_proba_one(x)"
   ]
  },
  {
   "cell_type": "code",
   "execution_count": 11,
   "metadata": {},
   "outputs": [
    {
     "name": "stdout",
     "output_type": "stream",
     "text": [
      "{}\n"
     ]
    }
   ],
   "source": [
    "# check predictions before seeing any data\n",
    "print(knn_inst.predict_one(x))"
   ]
  },
  {
   "cell_type": "code",
   "execution_count": 12,
   "metadata": {},
   "outputs": [],
   "source": [
    "lin_inst = \\\n",
    "    multioutput.PerOutputClassifier(\n",
    "        model= linear_model.LogisticRegression()\n",
    "    )\n"
   ]
  },
  {
   "cell_type": "code",
   "execution_count": 13,
   "metadata": {},
   "outputs": [
    {
     "data": {
      "text/plain": [
       "False"
      ]
     },
     "execution_count": 13,
     "metadata": {},
     "output_type": "execute_result"
    }
   ],
   "source": [
    "lin_inst._multiclass"
   ]
  },
  {
   "cell_type": "code",
   "execution_count": 14,
   "metadata": {},
   "outputs": [
    {
     "data": {
      "text/plain": [
       "{'model': LogisticRegression (\n",
       "   optimizer=SGD (\n",
       "     lr=Constant (\n",
       "       learning_rate=0.01\n",
       "     )\n",
       "   )\n",
       "   loss=Log (\n",
       "     weight_pos=1.\n",
       "     weight_neg=1.\n",
       "   )\n",
       "   l2=0.\n",
       "   l1=0.\n",
       "   intercept_init=0.\n",
       "   intercept_lr=Constant (\n",
       "     learning_rate=0.01\n",
       "   )\n",
       "   clip_gradient=1e+12\n",
       "   initializer=Zeros ()\n",
       " )}"
      ]
     },
     "execution_count": 14,
     "metadata": {},
     "output_type": "execute_result"
    }
   ],
   "source": [
    "lin_inst.__dict__"
   ]
  },
  {
   "cell_type": "code",
   "execution_count": 15,
   "metadata": {},
   "outputs": [
    {
     "name": "stdout",
     "output_type": "stream",
     "text": [
      "Help on class PerOutputClassifier in module river.multioutput.peroutput:\n",
      "\n",
      "class PerOutputClassifier(river.base.multi_output.MultiLabelClassifier)\n",
      " |  PerOutputClassifier(model: 'base.Classifier')\n",
      " |  \n",
      " |  Multi-target classification.\n",
      " |  \n",
      " |  This class implements a classification strategy where a classifier is \n",
      " |  fitting multiple targets separately.\n",
      " |  \n",
      " |  \n",
      " |  Parameters\n",
      " |  ----------\n",
      " |  model\n",
      " |      The classifier used for learning.\n",
      " |  \n",
      " |  Examples\n",
      " |  --------\n",
      " |  \n",
      " |  Method resolution order:\n",
      " |      PerOutputClassifier\n",
      " |      river.base.multi_output.MultiLabelClassifier\n",
      " |      river.base.estimator.Estimator\n",
      " |      river.base.base.Base\n",
      " |      abc.ABC\n",
      " |      builtins.object\n",
      " |  \n",
      " |  Methods defined here:\n",
      " |  \n",
      " |  __init__(self, model: 'base.Classifier')\n",
      " |      Initialize self.  See help(type(self)) for accurate signature.\n",
      " |  \n",
      " |  learn_one(self, x, y)\n",
      " |      Update the model with a set of features `x` and the labels `y`.\n",
      " |      \n",
      " |      Parameters\n",
      " |      ----------\n",
      " |      x\n",
      " |          A dictionary of features.\n",
      " |      y\n",
      " |          A dictionary of labels.\n",
      " |  \n",
      " |  predict_proba_one(self, x, **kwargs)\n",
      " |      Predict the probability of each label appearing given dictionary of features `x`.\n",
      " |      \n",
      " |      Parameters\n",
      " |      ----------\n",
      " |      x\n",
      " |          A dictionary of features.\n",
      " |      \n",
      " |      Returns\n",
      " |      -------\n",
      " |      A dictionary that associates a probability which each label.\n",
      " |  \n",
      " |  ----------------------------------------------------------------------\n",
      " |  Data and other attributes defined here:\n",
      " |  \n",
      " |  __abstractmethods__ = frozenset()\n",
      " |  \n",
      " |  ----------------------------------------------------------------------\n",
      " |  Methods inherited from river.base.multi_output.MultiLabelClassifier:\n",
      " |  \n",
      " |  predict_one(self, x: 'dict', **kwargs) -> 'dict[FeatureName, bool]'\n",
      " |      Predict the labels of a set of features `x`.\n",
      " |      \n",
      " |      Parameters\n",
      " |      ----------\n",
      " |      x\n",
      " |          A dictionary of features.\n",
      " |      \n",
      " |      Returns\n",
      " |      -------\n",
      " |      The predicted labels.\n",
      " |  \n",
      " |  ----------------------------------------------------------------------\n",
      " |  Methods inherited from river.base.estimator.Estimator:\n",
      " |  \n",
      " |  __or__(self, other)\n",
      " |      Merge with another Transformer into a Pipeline.\n",
      " |  \n",
      " |  __ror__(self, other)\n",
      " |      Merge with another Transformer into a Pipeline.\n",
      " |  \n",
      " |  ----------------------------------------------------------------------\n",
      " |  Methods inherited from river.base.base.Base:\n",
      " |  \n",
      " |  __repr__(self)\n",
      " |      Return repr(self).\n",
      " |  \n",
      " |  __str__(self)\n",
      " |      Return str(self).\n",
      " |  \n",
      " |  clone(self, new_params: 'dict | None' = None, include_attributes=False)\n",
      " |      Return a fresh estimator with the same parameters.\n",
      " |      \n",
      " |      The clone has the same parameters but has not been updated with any data.\n",
      " |      \n",
      " |      This works by looking at the parameters from the class signature. Each parameter is either\n",
      " |      \n",
      " |      - recursively cloned if its a class.\n",
      " |      - deep-copied via `copy.deepcopy` if not.\n",
      " |      \n",
      " |      If the calling object is stochastic (i.e. it accepts a seed parameter) and has not been\n",
      " |      seeded, then the clone will not be idempotent. Indeed, this method's purpose if simply to\n",
      " |      return a new instance with the same input parameters.\n",
      " |      \n",
      " |      Parameters\n",
      " |      ----------\n",
      " |      new_params\n",
      " |      include_attributes\n",
      " |          Whether attributes that are not present in the class' signature should also be cloned\n",
      " |          or not.\n",
      " |      \n",
      " |      Examples\n",
      " |      --------\n",
      " |      \n",
      " |      >>> from river import linear_model\n",
      " |      >>> from river import optim\n",
      " |      \n",
      " |      >>> model = linear_model.LinearRegression(\n",
      " |      ...     optimizer=optim.SGD(lr=0.042),\n",
      " |      ... )\n",
      " |      \n",
      " |      >>> new_params = {\n",
      " |      ...     'optimizer': optim.SGD(.001)\n",
      " |      ... }\n",
      " |      \n",
      " |      >>> model.clone(new_params)\n",
      " |      LinearRegression (\n",
      " |        optimizer=SGD (\n",
      " |          lr=Constant (\n",
      " |            learning_rate=0.001\n",
      " |          )\n",
      " |        )\n",
      " |        loss=Squared ()\n",
      " |        l2=0.\n",
      " |        l1=0.\n",
      " |        intercept_init=0.\n",
      " |        intercept_lr=Constant (\n",
      " |          learning_rate=0.01\n",
      " |        )\n",
      " |        clip_gradient=1e+12\n",
      " |        initializer=Zeros ()\n",
      " |      )\n",
      " |      \n",
      " |      The algorithm is recursively called down `Pipeline`s and `TransformerUnion`s.\n",
      " |      \n",
      " |      >>> from river import compose\n",
      " |      >>> from river import preprocessing\n",
      " |      \n",
      " |      >>> model = compose.Pipeline(\n",
      " |      ...     preprocessing.StandardScaler(),\n",
      " |      ...     linear_model.LinearRegression(\n",
      " |      ...         optimizer=optim.SGD(0.042),\n",
      " |      ...     )\n",
      " |      ... )\n",
      " |      \n",
      " |      >>> new_params = {\n",
      " |      ...     'LinearRegression': {\n",
      " |      ...         'optimizer': optim.SGD(0.03)\n",
      " |      ...     }\n",
      " |      ... }\n",
      " |      \n",
      " |      >>> model.clone(new_params)\n",
      " |      Pipeline (\n",
      " |        StandardScaler (\n",
      " |          with_std=True\n",
      " |        ),\n",
      " |        LinearRegression (\n",
      " |          optimizer=SGD (\n",
      " |            lr=Constant (\n",
      " |              learning_rate=0.03\n",
      " |            )\n",
      " |          )\n",
      " |          loss=Squared ()\n",
      " |          l2=0.\n",
      " |          l1=0.\n",
      " |          intercept_init=0.\n",
      " |          intercept_lr=Constant (\n",
      " |            learning_rate=0.01\n",
      " |          )\n",
      " |          clip_gradient=1e+12\n",
      " |          initializer=Zeros ()\n",
      " |        )\n",
      " |      )\n",
      " |  \n",
      " |  mutate(self, new_attrs: 'dict')\n",
      " |      Modify attributes.\n",
      " |      \n",
      " |      This changes parameters inplace. Although you can change attributes yourself, this is the\n",
      " |      recommended way to proceed. By default, all attributes are immutable, meaning they\n",
      " |      shouldn't be mutated. Calling `mutate` on an immutable attribute raises a `ValueError`.\n",
      " |      Mutable attributes are specified via the `_mutable_attributes` property, and are thus\n",
      " |      specified on a per-estimator basis.\n",
      " |      \n",
      " |      Parameters\n",
      " |      ----------\n",
      " |      new_attrs\n",
      " |      \n",
      " |      Examples\n",
      " |      --------\n",
      " |      \n",
      " |      >>> from river import linear_model\n",
      " |      >>> from river import optim\n",
      " |      \n",
      " |      >>> model = linear_model.LinearRegression(\n",
      " |      ...     optimizer=optim.SGD(0.042),\n",
      " |      ... )\n",
      " |      \n",
      " |      >>> new_params = {\n",
      " |      ...     'optimizer': {'lr': optim.schedulers.Constant(0.001)}\n",
      " |      ... }\n",
      " |      \n",
      " |      >>> model.mutate(new_params)\n",
      " |      >>> model\n",
      " |      LinearRegression (\n",
      " |        optimizer=SGD (\n",
      " |          lr=Constant (\n",
      " |            learning_rate=0.001\n",
      " |          )\n",
      " |        )\n",
      " |        loss=Squared ()\n",
      " |        l2=0.\n",
      " |        l1=0.\n",
      " |        intercept_init=0.\n",
      " |        intercept_lr=Constant (\n",
      " |          learning_rate=0.01\n",
      " |        )\n",
      " |        clip_gradient=1e+12\n",
      " |        initializer=Zeros ()\n",
      " |      )\n",
      " |      \n",
      " |      The algorithm is recursively called down `Pipeline`s and `TransformerUnion`s.\n",
      " |      \n",
      " |      >>> from river import compose\n",
      " |      >>> from river import preprocessing\n",
      " |      \n",
      " |      >>> model = compose.Pipeline(\n",
      " |      ...     preprocessing.StandardScaler(),\n",
      " |      ...     linear_model.LinearRegression(\n",
      " |      ...         optimizer=optim.SGD(lr=0.042),\n",
      " |      ...     )\n",
      " |      ... )\n",
      " |      \n",
      " |      >>> new_params = {\n",
      " |      ...     'LinearRegression': {\n",
      " |      ...         'l2': 5,\n",
      " |      ...         'optimizer': {'lr': optim.schedulers.Constant(0.03)}\n",
      " |      ...     }\n",
      " |      ... }\n",
      " |      \n",
      " |      >>> model.mutate(new_params)\n",
      " |      >>> model\n",
      " |      Pipeline (\n",
      " |        StandardScaler (\n",
      " |          with_std=True\n",
      " |        ),\n",
      " |        LinearRegression (\n",
      " |          optimizer=SGD (\n",
      " |            lr=Constant (\n",
      " |              learning_rate=0.03\n",
      " |            )\n",
      " |          )\n",
      " |          loss=Squared ()\n",
      " |          l2=5\n",
      " |          l1=0.\n",
      " |          intercept_init=0.\n",
      " |          intercept_lr=Constant (\n",
      " |            learning_rate=0.01\n",
      " |          )\n",
      " |          clip_gradient=1e+12\n",
      " |          initializer=Zeros ()\n",
      " |        )\n",
      " |      )\n",
      " |  \n",
      " |  ----------------------------------------------------------------------\n",
      " |  Data descriptors inherited from river.base.base.Base:\n",
      " |  \n",
      " |  __dict__\n",
      " |      dictionary for instance variables (if defined)\n",
      " |  \n",
      " |  __weakref__\n",
      " |      list of weak references to the object (if defined)\n",
      "\n"
     ]
    }
   ],
   "source": [
    "help(multioutput.PerOutputClassifier)"
   ]
  },
  {
   "cell_type": "code",
   "execution_count": null,
   "metadata": {},
   "outputs": [],
   "source": []
  }
 ],
 "metadata": {
  "kernelspec": {
   "display_name": ".venv",
   "language": "python",
   "name": "python3"
  },
  "language_info": {
   "codemirror_mode": {
    "name": "ipython",
    "version": 3
   },
   "file_extension": ".py",
   "mimetype": "text/x-python",
   "name": "python",
   "nbconvert_exporter": "python",
   "pygments_lexer": "ipython3",
   "version": "3.11.2"
  }
 },
 "nbformat": 4,
 "nbformat_minor": 2
}
